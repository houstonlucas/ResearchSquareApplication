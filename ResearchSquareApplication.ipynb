{
 "cells": [
  {
   "cell_type": "code",
   "execution_count": 1,
   "id": "adaptive-rubber",
   "metadata": {},
   "outputs": [],
   "source": [
    "# Training data\n",
    "x = [0, 1, 2, 3, 4]\n",
    "y = [0.1, 0.9, 2.1, 2.9, 4.1]\n",
    "\n",
    "# Model 1 predicted\n",
    "y_1 = [0, 1, 2, 3, 4]\n",
    "\n",
    "# Model 2 predicted\n",
    "y_2 = [0.1, 0.9, 2.1, 2.9, 4.1]"
   ]
  },
  {
   "cell_type": "code",
   "execution_count": 2,
   "id": "based-rally",
   "metadata": {},
   "outputs": [],
   "source": [
    "# Write a Python function that computes the root mean square error (RMSE) for each model.\n",
    "\n",
    "from math import sqrt\n",
    "from typing import List\n",
    "\n",
    "def compute_rmse(y: List[float], y_hat: List[float]) -> float:\n",
    "    n = len(y)\n",
    "    # Make sure the data are the same size\n",
    "    assert(len(y_hat) == n)\n",
    "    mse = sum([(y[i]-y_hat[i])**2 for i in range(n)])/n\n",
    "    return sqrt(mse)"
   ]
  },
  {
   "cell_type": "code",
   "execution_count": 3,
   "id": "previous-purple",
   "metadata": {},
   "outputs": [
    {
     "name": "stdout",
     "output_type": "stream",
     "text": [
      "RMSE for model 1: 0.1000\n",
      "RMSE for model 2: 0.0000\n"
     ]
    }
   ],
   "source": [
    "rmse_1 = compute_rmse(y, y_1)\n",
    "rmse_2 = compute_rmse(y, y_2)\n",
    "print(f\"RMSE for model 1: {rmse_1:0.4f}\\nRMSE for model 2: {rmse_2:0.4f}\")"
   ]
  },
  {
   "cell_type": "markdown",
   "id": "engaged-contributor",
   "metadata": {},
   "source": [
    "### Question:\n",
    "For the test point (x, y) = (5, 5.1), model 1 predicted y_1 = 5, and model 2 predicted y_2 = 5.2.\n",
    "Which model is better and why?\n",
    "\n",
    "### Answer:\n",
    "On the training set, Model 2 has the better RMSE of 0, but this makes me suspicious that Model 2 might be overfit.\n",
    "However, since the error it gets for the test point is the same magnitude as the error that Model 1 gets for the same test point it may not be terribly overfit.\n",
    "Overall Model 2 has better performance, with the caveat that perhaps more investigation could be done to further examine if it is infact overfit.\n",
    "\n",
    "As a side note: I find it odd that the training set and the test set inputs are linearly seperable, but it is a toy dataset."
   ]
  },
  {
   "cell_type": "code",
   "execution_count": null,
   "id": "known-snapshot",
   "metadata": {},
   "outputs": [],
   "source": []
  }
 ],
 "metadata": {
  "kernelspec": {
   "display_name": "Python 3",
   "language": "python",
   "name": "python3"
  },
  "language_info": {
   "codemirror_mode": {
    "name": "ipython",
    "version": 3
   },
   "file_extension": ".py",
   "mimetype": "text/x-python",
   "name": "python",
   "nbconvert_exporter": "python",
   "pygments_lexer": "ipython3",
   "version": "3.7.4"
  }
 },
 "nbformat": 4,
 "nbformat_minor": 5
}
